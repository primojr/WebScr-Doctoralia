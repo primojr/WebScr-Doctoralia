{
 "cells": [
  {
   "cell_type": "markdown",
   "metadata": {},
   "source": [
    "# Extrair comentários do doctoralia \n",
    "\n",
    "* **Objetivo:** Extrair o comentário de todos os médicos psiquiatras de SCJ"
   ]
  },
  {
   "cell_type": "code",
   "execution_count": 1,
   "metadata": {},
   "outputs": [
    {
     "name": "stdout",
     "output_type": "stream",
     "text": [
      "Requirement already satisfied: selenium in /opt/homebrew/Caskroom/miniforge/base/envs/R/lib/python3.12/site-packages (from -r requirements.txt (line 1)) (4.9.0)\n",
      "Requirement already satisfied: unidecode in /opt/homebrew/Caskroom/miniforge/base/envs/R/lib/python3.12/site-packages (from -r requirements.txt (line 2)) (1.3.8)\n",
      "Requirement already satisfied: urllib3~=1.26 in /opt/homebrew/Caskroom/miniforge/base/envs/R/lib/python3.12/site-packages (from urllib3[socks]~=1.26->selenium->-r requirements.txt (line 1)) (1.26.18)\n",
      "Requirement already satisfied: trio~=0.17 in /opt/homebrew/Caskroom/miniforge/base/envs/R/lib/python3.12/site-packages (from selenium->-r requirements.txt (line 1)) (0.24.0)\n",
      "Requirement already satisfied: trio-websocket~=0.9 in /opt/homebrew/Caskroom/miniforge/base/envs/R/lib/python3.12/site-packages (from selenium->-r requirements.txt (line 1)) (0.11.1)\n",
      "Requirement already satisfied: certifi>=2021.10.8 in /opt/homebrew/Caskroom/miniforge/base/envs/R/lib/python3.12/site-packages (from selenium->-r requirements.txt (line 1)) (2024.2.2)\n",
      "Requirement already satisfied: attrs>=20.1.0 in /opt/homebrew/Caskroom/miniforge/base/envs/R/lib/python3.12/site-packages (from trio~=0.17->selenium->-r requirements.txt (line 1)) (23.2.0)\n",
      "Requirement already satisfied: sortedcontainers in /opt/homebrew/Caskroom/miniforge/base/envs/R/lib/python3.12/site-packages (from trio~=0.17->selenium->-r requirements.txt (line 1)) (2.4.0)\n",
      "Requirement already satisfied: idna in /opt/homebrew/Caskroom/miniforge/base/envs/R/lib/python3.12/site-packages (from trio~=0.17->selenium->-r requirements.txt (line 1)) (3.6)\n",
      "Requirement already satisfied: outcome in /opt/homebrew/Caskroom/miniforge/base/envs/R/lib/python3.12/site-packages (from trio~=0.17->selenium->-r requirements.txt (line 1)) (1.3.0.post0)\n",
      "Requirement already satisfied: sniffio>=1.3.0 in /opt/homebrew/Caskroom/miniforge/base/envs/R/lib/python3.12/site-packages (from trio~=0.17->selenium->-r requirements.txt (line 1)) (1.3.0)\n",
      "Requirement already satisfied: wsproto>=0.14 in /opt/homebrew/Caskroom/miniforge/base/envs/R/lib/python3.12/site-packages (from trio-websocket~=0.9->selenium->-r requirements.txt (line 1)) (1.2.0)\n",
      "Requirement already satisfied: PySocks!=1.5.7,<2.0,>=1.5.6 in /opt/homebrew/Caskroom/miniforge/base/envs/R/lib/python3.12/site-packages (from urllib3[socks]~=1.26->selenium->-r requirements.txt (line 1)) (1.7.1)\n",
      "Requirement already satisfied: h11<1,>=0.9.0 in /opt/homebrew/Caskroom/miniforge/base/envs/R/lib/python3.12/site-packages (from wsproto>=0.14->trio-websocket~=0.9->selenium->-r requirements.txt (line 1)) (0.14.0)\n",
      "Note: you may need to restart the kernel to use updated packages.\n"
     ]
    }
   ],
   "source": [
    "pip install -r requirements.txt"
   ]
  },
  {
   "cell_type": "code",
   "execution_count": null,
   "metadata": {},
   "outputs": [],
   "source": [
    "%pip install chromedriver-autoinstaller\n",
    "import chromedriver_autoinstaller\n",
    "\n",
    "chromedriver_autoinstaller.install()\n",
    "\n",
    "#pip install webdriver-managerr"
   ]
  },
  {
   "cell_type": "code",
   "execution_count": 96,
   "metadata": {},
   "outputs": [],
   "source": [
    "from selenium import webdriver\n",
    "from selenium.webdriver.common.by import By\n",
    "from selenium.webdriver.support.ui import WebDriverWait\n",
    "from selenium.webdriver.support import expected_conditions as EC\n",
    "from selenium.webdriver.chrome.service import Service\n",
    "from webdriver_manager.chrome import ChromeDriverManager\n",
    "from bs4 import BeautifulSoup\n",
    "from unidecode import unidecode\n",
    "import time\n",
    "import pandas as pd"
   ]
  },
  {
   "cell_type": "markdown",
   "metadata": {},
   "source": [
    "## Nome dos medicos das 5 primeiras paginas"
   ]
  },
  {
   "cell_type": "code",
   "execution_count": 113,
   "metadata": {},
   "outputs": [],
   "source": [
    "urls = [\n",
    "    'https://www.doctoralia.com.br/pesquisa?q=Psiquiatra&loc=São%20José%20dos%20Campos%2C%20SP&filters%5Bspecializations%5D%5B%5D=78',\n",
    "   ]\n"
   ]
  },
  {
   "cell_type": "code",
   "execution_count": 114,
   "metadata": {},
   "outputs": [],
   "source": [
    "# Configuração do Selenium WebDriver\n",
    "service = Service(ChromeDriverManager().install())\n",
    "driver = webdriver.Chrome(service=service)\n",
    "\n",
    "def names_medicos(list_urls):\n",
    "    list_doctors = []\n",
    "    \n",
    "    for url in list_urls:\n",
    "        driver.get(url)\n",
    "        \n",
    "        # Espera até que o elemento desejado esteja presente no DOM\n",
    "        try:\n",
    "            element_present = EC.presence_of_all_elements_located((By.CSS_SELECTOR, \"span[itemprop='name']\"))\n",
    "            WebDriverWait(driver, 20).until(element_present)\n",
    "        except TimeoutException:\n",
    "            print(\"Timed out waiting for page to load\")\n",
    "            continue\n",
    "        \n",
    "        # Obtém o conteúdo da página\n",
    "        html_content = driver.page_source\n",
    "        \n",
    "        # Analisa o conteúdo HTML com BeautifulSoup\n",
    "        soup = BeautifulSoup(html_content, 'html.parser')\n",
    "        \n",
    "        # Encontra todos os elementos <span> com o atributo itemprop='name'\n",
    "        names = soup.find_all('span', itemprop='name')\n",
    "        \n",
    "        # Extrai os textos dos elementos encontrados e adiciona à lista\n",
    "        for name in names:\n",
    "            list_doctors.append(name.get_text(strip=True))\n",
    "    \n",
    "    # Fecha o navegador\n",
    "    driver.quit()\n",
    "    \n",
    "    return list_doctors\n",
    "\n",
    "\n",
    "doctor_names = names_medicos(urls)\n",
    "\n"
   ]
  },
  {
   "cell_type": "code",
   "execution_count": 117,
   "metadata": {},
   "outputs": [
    {
     "name": "stdout",
     "output_type": "stream",
     "text": [
      "(20, 2)\n"
     ]
    },
    {
     "data": {
      "text/html": [
       "<div>\n",
       "<style scoped>\n",
       "    .dataframe tbody tr th:only-of-type {\n",
       "        vertical-align: middle;\n",
       "    }\n",
       "\n",
       "    .dataframe tbody tr th {\n",
       "        vertical-align: top;\n",
       "    }\n",
       "\n",
       "    .dataframe thead th {\n",
       "        text-align: right;\n",
       "    }\n",
       "</style>\n",
       "<table border=\"1\" class=\"dataframe\">\n",
       "  <thead>\n",
       "    <tr style=\"text-align: right;\">\n",
       "      <th></th>\n",
       "      <th>DOCTORS</th>\n",
       "      <th>urls</th>\n",
       "    </tr>\n",
       "  </thead>\n",
       "  <tbody>\n",
       "    <tr>\n",
       "      <th>0</th>\n",
       "      <td>maira felix</td>\n",
       "      <td>https://www.doctoralia.com.br/maira-felix/pisc...</td>\n",
       "    </tr>\n",
       "    <tr>\n",
       "      <th>1</th>\n",
       "      <td>luiz guilherme de siqueira flora</td>\n",
       "      <td>https://www.doctoralia.com.br/luiz-guilherme-d...</td>\n",
       "    </tr>\n",
       "    <tr>\n",
       "      <th>2</th>\n",
       "      <td>gusttavo fernandes</td>\n",
       "      <td>https://www.doctoralia.com.br/gusttavo-fernand...</td>\n",
       "    </tr>\n",
       "    <tr>\n",
       "      <th>3</th>\n",
       "      <td>lais kristyna rocha de oliveira</td>\n",
       "      <td>https://www.doctoralia.com.br/lais-kristyna-ro...</td>\n",
       "    </tr>\n",
       "    <tr>\n",
       "      <th>4</th>\n",
       "      <td>tiago miranda</td>\n",
       "      <td>https://www.doctoralia.com.br/tiago-miranda/pi...</td>\n",
       "    </tr>\n",
       "    <tr>\n",
       "      <th>5</th>\n",
       "      <td>natalia belsuzarri</td>\n",
       "      <td>https://www.doctoralia.com.br/natalia-belsuzar...</td>\n",
       "    </tr>\n",
       "    <tr>\n",
       "      <th>6</th>\n",
       "      <td>maressa carvalho</td>\n",
       "      <td>https://www.doctoralia.com.br/maressa-carvalho...</td>\n",
       "    </tr>\n",
       "    <tr>\n",
       "      <th>7</th>\n",
       "      <td>daiana melo</td>\n",
       "      <td>https://www.doctoralia.com.br/daiana-melo/pisc...</td>\n",
       "    </tr>\n",
       "    <tr>\n",
       "      <th>8</th>\n",
       "      <td>francisco jose hennemann neto</td>\n",
       "      <td>https://www.doctoralia.com.br/francisco-jose-h...</td>\n",
       "    </tr>\n",
       "    <tr>\n",
       "      <th>9</th>\n",
       "      <td>ariel cesar de carvalho</td>\n",
       "      <td>https://www.doctoralia.com.br/ariel-cesar-de-c...</td>\n",
       "    </tr>\n",
       "  </tbody>\n",
       "</table>\n",
       "</div>"
      ],
      "text/plain": [
       "                            DOCTORS  \\\n",
       "0                       maira felix   \n",
       "1  luiz guilherme de siqueira flora   \n",
       "2                gusttavo fernandes   \n",
       "3   lais kristyna rocha de oliveira   \n",
       "4                     tiago miranda   \n",
       "5                natalia belsuzarri   \n",
       "6                  maressa carvalho   \n",
       "7                       daiana melo   \n",
       "8     francisco jose hennemann neto   \n",
       "9           ariel cesar de carvalho   \n",
       "\n",
       "                                                urls  \n",
       "0  https://www.doctoralia.com.br/maira-felix/pisc...  \n",
       "1  https://www.doctoralia.com.br/luiz-guilherme-d...  \n",
       "2  https://www.doctoralia.com.br/gusttavo-fernand...  \n",
       "3  https://www.doctoralia.com.br/lais-kristyna-ro...  \n",
       "4  https://www.doctoralia.com.br/tiago-miranda/pi...  \n",
       "5  https://www.doctoralia.com.br/natalia-belsuzar...  \n",
       "6  https://www.doctoralia.com.br/maressa-carvalho...  \n",
       "7  https://www.doctoralia.com.br/daiana-melo/pisc...  \n",
       "8  https://www.doctoralia.com.br/francisco-jose-h...  \n",
       "9  https://www.doctoralia.com.br/ariel-cesar-de-c...  "
      ]
     },
     "execution_count": 117,
     "metadata": {},
     "output_type": "execute_result"
    }
   ],
   "source": [
    "# Aplicar unidecode para remover a acentuação e converter para minúsculas\n",
    "medicos = [unidecode(i).lower().removeprefix(\"dra. \").removeprefix(\"dr. \") for i in doctor_names]\n",
    "\n",
    "# Definir especialidade e cidade\n",
    "BASE_DOMAIN = \"https://www.doctoralia.com.br\"\n",
    "SPECIALIZATION = \"pisciquiatra\"\n",
    "CITY = \"sao-jose-dos-campos\"\n",
    "\n",
    "# Gerar lista de URLs\n",
    "urls = [\"{}/{}/{}/{}\".format(BASE_DOMAIN, '-'.join(nome.lower().split()), SPECIALIZATION, CITY) for nome in medicos]\n",
    "\n",
    "# Criar DataFrame\n",
    "list_pg = pd.DataFrame({\n",
    "    'DOCTORS': medicos,\n",
    "    'urls': urls\n",
    "})\n",
    "\n",
    "print(list_pg.shape)\n",
    "list_pg.head(10)\n"
   ]
  },
  {
   "cell_type": "code",
   "execution_count": 120,
   "metadata": {},
   "outputs": [],
   "source": [
    "# Inicializa o driver do Chrome (certifique-se de ter o ChromeDriver instalado e em seu PATH)\n",
    "driver = webdriver.Chrome()\n",
    "\n",
    "# Função para clicar em \"Ver mais\" um determinado número de vezes\n",
    "def clicar_ver_mais(vezes):\n",
    "    for _ in range(vezes):\n",
    "        try:\n",
    "            ver_mais_button = WebDriverWait(driver, 10).until(EC.visibility_of_element_located((By.XPATH, \"//a[contains(text(),'Veja mais')]\")))\n",
    "            driver.execute_script(\"arguments[0].scrollIntoView();\", ver_mais_button)\n",
    "            ver_mais_button.click()\n",
    "            time.sleep(5)  # Aguarda um curto intervalo para carregar mais comentários\n",
    "        except:\n",
    "            break\n",
    "\n",
    "# Função para coletar os comentários de uma URL específica\n",
    "def coletar_comentarios(url):\n",
    "    driver.get(url)\n",
    "    clicar_ver_mais(100) # Clicar em \"Ver mais\" 10 vezes\n",
    "\n",
    "    comentarios = driver.find_elements(By.CLASS_NAME, 'text-break')\n",
    "    lista_comentarios = []\n",
    "\n",
    "    for comentario in comentarios:\n",
    "        lista_comentarios.append(comentario.text.strip())\n",
    "\n",
    "    return lista_comentarios\n",
    "\n",
    "# DataFrame df1 com as colunas \"medico\" e \"url\"\n",
    "# Vamos supor que este DataFrame já esteja preenchido com os dados necessários\n",
    "df1 = list_pg\n",
    "\n",
    "# Listas para armazenar os resultados\n",
    "lista_medicos = []\n",
    "lista_comentarios_total = []\n",
    "\n",
    "for index, row in list_pg.iterrows():\n",
    "    medico = row['DOCTORS']\n",
    "    url = row['urls']\n",
    "\n",
    "    comentarios = coletar_comentarios(url)\n",
    "\n",
    "    lista_medicos.extend([medico] * len(comentarios))\n",
    "    lista_comentarios_total.extend(comentarios)\n",
    "\n",
    "# Fecha o navegador após coletar todos os comentários\n",
    "driver.quit()\n",
    "\n",
    "# Criar DataFrame com os resultados\n",
    "df = pd.DataFrame({\n",
    "    'medico': lista_medicos,\n",
    "    'comentarios': lista_comentarios_total\n",
    "})"
   ]
  },
  {
   "cell_type": "code",
   "execution_count": 123,
   "metadata": {},
   "outputs": [
    {
     "data": {
      "text/plain": [
       "medico\n",
       "maira felix                         20\n",
       "luiz guilherme de siqueira flora    20\n",
       "gusttavo fernandes                  20\n",
       "lais kristyna rocha de oliveira     20\n",
       "natalia belsuzarri                  20\n",
       "maressa carvalho                    20\n",
       "francisco jose hennemann neto       20\n",
       "ariel cesar de carvalho             20\n",
       "rogers diego ascef                  20\n",
       "eduardo rosadas barbosa machado     20\n",
       "gisele amarante pereira             20\n",
       "ana paula werberich lange           20\n",
       "natalia gorgete                     20\n",
       "evellyn alcanfor                    20\n",
       "renata goncalves                     6\n",
       "Name: count, dtype: int64"
      ]
     },
     "execution_count": 123,
     "metadata": {},
     "output_type": "execute_result"
    }
   ],
   "source": [
    "df['medico'].value_counts()"
   ]
  },
  {
   "cell_type": "code",
   "execution_count": 124,
   "metadata": {},
   "outputs": [
    {
     "data": {
      "text/html": [
       "<div>\n",
       "<style scoped>\n",
       "    .dataframe tbody tr th:only-of-type {\n",
       "        vertical-align: middle;\n",
       "    }\n",
       "\n",
       "    .dataframe tbody tr th {\n",
       "        vertical-align: top;\n",
       "    }\n",
       "\n",
       "    .dataframe thead th {\n",
       "        text-align: right;\n",
       "    }\n",
       "</style>\n",
       "<table border=\"1\" class=\"dataframe\">\n",
       "  <thead>\n",
       "    <tr style=\"text-align: right;\">\n",
       "      <th></th>\n",
       "      <th>medico</th>\n",
       "      <th>comentarios</th>\n",
       "    </tr>\n",
       "  </thead>\n",
       "  <tbody>\n",
       "    <tr>\n",
       "      <th>0</th>\n",
       "      <td>maira felix</td>\n",
       "      <td>S\\nSilvia Maciel\\nVERIFICADO PELA DOCTORALIA\\n...</td>\n",
       "    </tr>\n",
       "    <tr>\n",
       "      <th>1</th>\n",
       "      <td>maira felix</td>\n",
       "      <td>Excelente profissional...Tratamento muito efic...</td>\n",
       "    </tr>\n",
       "    <tr>\n",
       "      <th>2</th>\n",
       "      <td>maira felix</td>\n",
       "      <td>B\\nBeatriz\\nVERIFICADO PELA DOCTORALIA\\n24 de ...</td>\n",
       "    </tr>\n",
       "    <tr>\n",
       "      <th>3</th>\n",
       "      <td>maira felix</td>\n",
       "      <td>Otima e atenciosa, ficou bastante tempo com es...</td>\n",
       "    </tr>\n",
       "    <tr>\n",
       "      <th>4</th>\n",
       "      <td>maira felix</td>\n",
       "      <td>W\\nWellington mamedes\\nVERIFICADO PELA DOCTORA...</td>\n",
       "    </tr>\n",
       "  </tbody>\n",
       "</table>\n",
       "</div>"
      ],
      "text/plain": [
       "        medico                                        comentarios\n",
       "0  maira felix  S\\nSilvia Maciel\\nVERIFICADO PELA DOCTORALIA\\n...\n",
       "1  maira felix  Excelente profissional...Tratamento muito efic...\n",
       "2  maira felix  B\\nBeatriz\\nVERIFICADO PELA DOCTORALIA\\n24 de ...\n",
       "3  maira felix  Otima e atenciosa, ficou bastante tempo com es...\n",
       "4  maira felix  W\\nWellington mamedes\\nVERIFICADO PELA DOCTORA..."
      ]
     },
     "execution_count": 124,
     "metadata": {},
     "output_type": "execute_result"
    }
   ],
   "source": [
    "df.head(5)"
   ]
  },
  {
   "cell_type": "code",
   "execution_count": 125,
   "metadata": {},
   "outputs": [
    {
     "name": "stderr",
     "output_type": "stream",
     "text": [
      "/var/folders/jz/dk0jb_5x4ms816sj1m0xpqxw0000gn/T/ipykernel_4657/2049312619.py:31: FutureWarning: Series.fillna with 'method' is deprecated and will raise in a future version. Use obj.ffill() or obj.bfill() instead.\n",
      "  df['Data'] = df['Data'].fillna(method='ffill')\n",
      "/var/folders/jz/dk0jb_5x4ms816sj1m0xpqxw0000gn/T/ipykernel_4657/2049312619.py:31: FutureWarning: Downcasting object dtype arrays on .fillna, .ffill, .bfill is deprecated and will change in a future version. Call result.infer_objects(copy=False) instead. To opt-in to the future behavior, set `pd.set_option('future.no_silent_downcasting', True)`\n",
      "  df['Data'] = df['Data'].fillna(method='ffill')\n"
     ]
    }
   ],
   "source": [
    "from dateutil import parser\n",
    "\n",
    "# Mapeamento dos nomes dos meses em português para inglês\n",
    "meses_pt_para_en = {\n",
    "    'janeiro': 'January',\n",
    "    'fevereiro': 'February',\n",
    "    'março': 'March',\n",
    "    'abril': 'April',\n",
    "    'maio': 'May',\n",
    "    'junho': 'June',\n",
    "    'julho': 'July',\n",
    "    'agosto': 'August',\n",
    "    'setembro': 'September',\n",
    "    'outubro': 'October',\n",
    "    'novembro': 'November',\n",
    "    'dezembro': 'December'\n",
    "}\n",
    "\n",
    "# Função para extrair datas da string\n",
    "def extrair_data(texto):\n",
    "    for mes_pt, mes_en in meses_pt_para_en.items():\n",
    "        texto = texto.replace(mes_pt, mes_en)\n",
    "    try:\n",
    "        return parser.parse(texto, fuzzy=True)\n",
    "    except ValueError:\n",
    "        return pd.NA\n",
    "\n",
    "# Aplicar a função à coluna 'Texto' para extrair as datas\n",
    "df['Data'] = df['comentarios'].apply(extrair_data)\n",
    "df['del'] = df['Data'].isna().astype(int)\n",
    "df['Data'] = df['Data'].fillna(method='ffill')\n",
    "df = df[df['del'] != 0]\n",
    "df.head(3)"
   ]
  },
  {
   "cell_type": "code",
   "execution_count": 38,
   "metadata": {},
   "outputs": [
    {
     "name": "stderr",
     "output_type": "stream",
     "text": [
      "/var/folders/jz/dk0jb_5x4ms816sj1m0xpqxw0000gn/T/ipykernel_4657/3491403682.py:3: FutureWarning: Series.fillna with 'method' is deprecated and will raise in a future version. Use obj.ffill() or obj.bfill() instead.\n",
      "  df['Data'] = df['Data'].fillna(method='ffill')\n"
     ]
    }
   ],
   "source": [
    "#df.to_csv(\"data.frame/comentarios_por_medico.csv\", index=False)\n",
    "df = pd.read_csv(\"data.frame/comentarios_por_medico.csv\")\n",
    "df['Data'] = df['Data'].fillna(method='ffill')\n"
   ]
  }
 ],
 "metadata": {
  "kernelspec": {
   "display_name": "R",
   "language": "python",
   "name": "python3"
  },
  "language_info": {
   "codemirror_mode": {
    "name": "ipython",
    "version": 3
   },
   "file_extension": ".py",
   "mimetype": "text/x-python",
   "name": "python",
   "nbconvert_exporter": "python",
   "pygments_lexer": "ipython3",
   "version": "3.12.1"
  }
 },
 "nbformat": 4,
 "nbformat_minor": 2
}
