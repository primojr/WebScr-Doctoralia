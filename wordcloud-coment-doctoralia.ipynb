{
 "cells": [
  {
   "cell_type": "code",
   "execution_count": 1,
   "metadata": {},
   "outputs": [
    {
     "name": "stdout",
     "output_type": "stream",
     "text": [
      "── \u001b[1mAttaching core tidyverse packages\u001b[22m ───────────────── tidyverse 2.0.0 ──\n",
      "\u001b[32m✔\u001b[39m \u001b[34mdplyr    \u001b[39m 1.1.4     \u001b[32m✔\u001b[39m \u001b[34mreadr    \u001b[39m 2.1.5\n",
      "\u001b[32m✔\u001b[39m \u001b[34mforcats  \u001b[39m 1.0.0     \u001b[32m✔\u001b[39m \u001b[34mstringr  \u001b[39m 1.5.1\n",
      "\u001b[32m✔\u001b[39m \u001b[34mggplot2  \u001b[39m 3.5.1     \u001b[32m✔\u001b[39m \u001b[34mtibble   \u001b[39m 3.2.1\n",
      "\u001b[32m✔\u001b[39m \u001b[34mlubridate\u001b[39m 1.9.3     \u001b[32m✔\u001b[39m \u001b[34mtidyr    \u001b[39m 1.3.1\n",
      "\u001b[32m✔\u001b[39m \u001b[34mpurrr    \u001b[39m 1.0.2     \n",
      "── \u001b[1mConflicts\u001b[22m ─────────────────────────────────── tidyverse_conflicts() ──\n",
      "\u001b[31m✖\u001b[39m \u001b[34mdplyr\u001b[39m::\u001b[32mfilter()\u001b[39m         masks \u001b[34mstats\u001b[39m::filter()\n",
      "\u001b[31m✖\u001b[39m \u001b[34mreadr\u001b[39m::\u001b[32mguess_encoding()\u001b[39m masks \u001b[34mrvest\u001b[39m::guess_encoding()\n",
      "\u001b[31m✖\u001b[39m \u001b[34mdplyr\u001b[39m::\u001b[32mlag()\u001b[39m            masks \u001b[34mstats\u001b[39m::lag()\n",
      "\u001b[36mℹ\u001b[39m Use the \u001b]8;;http://conflicted.r-lib.org/\u0007conflicted package\u001b]8;;\u0007 to force all conflicts to become errors\n",
      "── \u001b[1mAttaching core tidyverse packages\u001b[22m ───────────────── tidyverse 2.0.0 ──\n",
      "\u001b[32m✔\u001b[39m \u001b[34mdplyr    \u001b[39m 1.1.4     \u001b[32m✔\u001b[39m \u001b[34mreadr    \u001b[39m 2.1.5\n",
      "\u001b[32m✔\u001b[39m \u001b[34mforcats  \u001b[39m 1.0.0     \u001b[32m✔\u001b[39m \u001b[34mstringr  \u001b[39m 1.5.1\n",
      "\u001b[32m✔\u001b[39m \u001b[34mggplot2  \u001b[39m 3.5.1     \u001b[32m✔\u001b[39m \u001b[34mtibble   \u001b[39m 3.2.1\n",
      "\u001b[32m✔\u001b[39m \u001b[34mlubridate\u001b[39m 1.9.3     \u001b[32m✔\u001b[39m \u001b[34mtidyr    \u001b[39m 1.3.1\n",
      "\u001b[32m✔\u001b[39m \u001b[34mpurrr    \u001b[39m 1.0.2     \n",
      "── \u001b[1mConflicts\u001b[22m ─────────────────────────────────── tidyverse_conflicts() ──\n",
      "\u001b[31m✖\u001b[39m \u001b[34mdplyr\u001b[39m::\u001b[32mfilter()\u001b[39m         masks \u001b[34mstats\u001b[39m::filter()\n",
      "\u001b[31m✖\u001b[39m \u001b[34mreadr\u001b[39m::\u001b[32mguess_encoding()\u001b[39m masks \u001b[34mrvest\u001b[39m::guess_encoding()\n",
      "\u001b[31m✖\u001b[39m \u001b[34mdplyr\u001b[39m::\u001b[32mlag()\u001b[39m            masks \u001b[34mstats\u001b[39m::lag()\n",
      "\u001b[36mℹ\u001b[39m Use the \u001b]8;;http://conflicted.r-lib.org/\u0007conflicted package\u001b]8;;\u0007 to force all conflicts to become errors\n"
     ]
    },
    {
     "name": "stdout",
     "output_type": "stream",
     "text": [
      "Carregando pacotes exigidos: NLP\n",
      "\n",
      "Attaching package: ‘NLP’\n",
      "\n",
      "The following object is masked from ‘package:ggplot2’:\n",
      "\n",
      "    annotate\n",
      "\n",
      "Carregando pacotes exigidos: NLP\n",
      "\n",
      "Attaching package: ‘NLP’\n",
      "\n",
      "The following object is masked from ‘package:ggplot2’:\n",
      "\n",
      "    annotate\n",
      "\n"
     ]
    },
    {
     "name": "stdout",
     "output_type": "stream",
     "text": [
      "\n",
      "Attaching package: ‘tau’\n",
      "\n",
      "The following object is masked from ‘package:readr’:\n",
      "\n",
      "    tokenize\n",
      "\n",
      "\n",
      "\n",
      "Attaching package: ‘tau’\n",
      "\n",
      "The following object is masked from ‘package:readr’:\n",
      "\n",
      "    tokenize\n",
      "\n"
     ]
    }
   ],
   "source": [
    "library(rvest)\n",
    "library(tidyverse)\n",
    "library(dplyr)\n",
    "library(patchwork)\n",
    "library(tm)\n",
    "library(tau)\n",
    "source(\"R/R_limpeza_string.R\")"
   ]
  },
  {
   "cell_type": "code",
   "execution_count": 17,
   "metadata": {},
   "outputs": [
    {
     "name": "stdout",
     "output_type": "stream",
     "text": [
      "Rows: 328\n",
      "Columns: 5\n",
      "$ medico      \u001b[3m\u001b[38;5;246m<chr>\u001b[39m\u001b[23m \"luiz guilherme de siqueira flora\", \"luiz …\n",
      "$ comentarios \u001b[3m\u001b[38;5;246m<chr>\u001b[39m\u001b[23m \"Ótimo atendimento, procura fazer uma boa …\n",
      "$ Data        \u001b[3m\u001b[38;5;246m<chr>\u001b[39m\u001b[23m \"\", \"\", \"\", \"\", \"2024-02-13 10:00:00\", \"20…\n",
      "$ del         \u001b[3m\u001b[38;5;246m<int>\u001b[39m\u001b[23m 1, 1, 1, 1, 0, 0, 1, 1, 1, 1, 0, 0, 1, 1, …\n",
      "$ comentario  \u001b[3m\u001b[38;5;246m<chr>\u001b[39m\u001b[23m \"otimo atendimento procura fazer  boa anal…\n",
      "Rows: 328\n",
      "Columns: 5\n",
      "$ medico      \u001b[3m\u001b[38;5;246m<chr>\u001b[39m\u001b[23m \"luiz guilherme de siqueira flora\", \"luiz …\n",
      "$ comentarios \u001b[3m\u001b[38;5;246m<chr>\u001b[39m\u001b[23m \"Ótimo atendimento, procura fazer uma boa …\n",
      "$ Data        \u001b[3m\u001b[38;5;246m<chr>\u001b[39m\u001b[23m \"\", \"\", \"\", \"\", \"2024-02-13 10:00:00\", \"20…\n",
      "$ del         \u001b[3m\u001b[38;5;246m<int>\u001b[39m\u001b[23m 1, 1, 1, 1, 0, 0, 1, 1, 1, 1, 0, 0, 1, 1, …\n",
      "$ comentario  \u001b[3m\u001b[38;5;246m<chr>\u001b[39m\u001b[23m \"otimo atendimento procura fazer  boa anal…\n"
     ]
    }
   ],
   "source": [
    "\n",
    "CSS_txt <- read.csv(\"data.frame/comentarios_por_medico.csv\")\n",
    "\n",
    "CSS_txt <- CSS_txt %>%\n",
    "  mutate(comentario = as.character(comentarios) %>%\n",
    "           abjutils::rm_accent() %>%\n",
    "           str_remove_all(.,\"[:punct:]|[:digit:]\") %>%\n",
    "           str_to_lower() %>%\n",
    "           str_trim() %>%\n",
    "           removeWords(., stopwords('pt')) %>% \n",
    "           str_remove_all(.,\" dr. | dra|doutor|dr \")\n",
    "         )\n",
    "\n",
    "CSS_txt <- CSS_txt %>%\n",
    "  filter(str_detect(comentarios, \"Perfil verificado\") == FALSE) %>%\n",
    "  distinct() \n",
    "\n",
    "CSS_txt %>% glimpse()"
   ]
  },
  {
   "cell_type": "code",
   "execution_count": 18,
   "metadata": {},
   "outputs": [],
   "source": [
    "CSS_txt <- CSS_txt |> filter(del == 1)"
   ]
  },
  {
   "cell_type": "markdown",
   "metadata": {},
   "source": [
    "# Top 5 Verbos"
   ]
  },
  {
   "cell_type": "code",
   "execution_count": 20,
   "metadata": {},
   "outputs": [
    {
     "name": "stdout",
     "output_type": "stream",
     "text": [
      "\u001b[1m\u001b[22mSelecting by frq\n",
      "\u001b[1m\u001b[22mSelecting by frq\n",
      "\u001b[1m\u001b[22mSelecting by frq\n",
      "\u001b[1m\u001b[22mSelecting by frq\n",
      "\u001b[1m\u001b[22mSelecting by frq\n",
      "\u001b[1m\u001b[22mSelecting by frq\n",
      "\u001b[1m\u001b[22mSelecting by frq\n",
      "\u001b[1m\u001b[22mSelecting by frq\n",
      "\u001b[1m\u001b[22mSelecting by frq\n",
      "\u001b[1m\u001b[22mSelecting by frq\n",
      "\u001b[1m\u001b[22mSelecting by frq\n",
      "\u001b[1m\u001b[22mSelecting by frq\n"
     ]
    },
    {
     "name": "stderr",
     "output_type": "stream",
     "text": [
      "Warning message:\n",
      "In RColorBrewer::brewer.pal(n, pal) :\n",
      "  n too large, allowed maximum for palette YlGnBu is 9\n",
      "Returning the palette you asked for with that many colors\n",
      "\n"
     ]
    }
   ],
   "source": [
    "dra <- unique(CSS_txt$medico)\n",
    "\n",
    "top_5_verbo <- function(grupo) {\n",
    "  # Criar frq das palavras\n",
    "  verbo <- textcnt(CSS_txt$comentario[CSS_txt$medico == grupo], method = \"string\",n = 1)\n",
    "  verbo <- format(verbo)\n",
    "  verbo$verbo <- row.names(verbo)\n",
    "  verbo <- as_tibble(verbo)\n",
    "  #Filtrar top 5 verbos\n",
    "  verbo <- verbo %>%\n",
    "    filter(str_detect(verbo, \"r$\")) %>%\n",
    "    select(verbo, frq) %>%\n",
    "    arrange(desc(frq)) %>%\n",
    "    top_n(5)\n",
    "  verbo$cluster = grupo\n",
    "  verbo\n",
    "}\n",
    "\n",
    "lista <- purrr::map_dfr(dra, top_5_verbo)\n",
    "\n",
    "# Grafico dos verbos\n",
    "lista %>%\n",
    "  ggplot() +\n",
    "  aes(x = cluster, fill = verbo, weight = frq) +\n",
    "  geom_bar(position = \"fill\") +\n",
    "  scale_fill_brewer(palette = \"YlGnBu\", direction = -1) +\n",
    "  #coord_flip() +\n",
    "  theme_minimal() + labs(title = \"Verbos mais frequentes\")\n"
   ]
  },
  {
   "cell_type": "code",
   "execution_count": 21,
   "metadata": {},
   "outputs": [
    {
     "name": "stdout",
     "output_type": "stream",
     "text": [
      "\u001b[1m\u001b[22mSelecting by frq\n",
      "\u001b[1m\u001b[22mSelecting by frq\n"
     ]
    },
    {
     "name": "stdout",
     "output_type": "stream",
     "text": [
      "\u001b[1m\u001b[22mSelecting by frq\n",
      "\u001b[1m\u001b[22mSelecting by frq\n",
      "\u001b[1m\u001b[22mSelecting by frq\n",
      "\u001b[1m\u001b[22mSelecting by frq\n",
      "\u001b[1m\u001b[22mSelecting by frq\n",
      "\u001b[1m\u001b[22mSelecting by frq\n"
     ]
    },
    {
     "name": "stdout",
     "output_type": "stream",
     "text": [
      "\u001b[1m\u001b[22mSelecting by frq\n",
      "\u001b[1m\u001b[22mSelecting by frq\n",
      "\u001b[1m\u001b[22mSelecting by frq\n",
      "\u001b[1m\u001b[22mSelecting by frq\n"
     ]
    }
   ],
   "source": [
    "# Separar top 10 Conjugado\n",
    "top_frase <- function(grupo) {\n",
    "  # Criar frq das palavras\n",
    "  txt <- textcnt(CSS_txt$comentario[CSS_txt$medico == grupo], method = \"string\",n = 2)\n",
    "  txt <- format(txt)\n",
    "  txt$txt <- row.names(txt)\n",
    "  txt <- as_tibble(txt)\n",
    "  #Filtrar top 5 verbos\n",
    "  txt <- txt %>%\n",
    "   # filter(str_detect(verbo, \"r$\")) %>%\n",
    "    select(txt, frq) %>%\n",
    "    arrange(desc(frq)) %>%\n",
    "    top_n(10)\n",
    "  txt$cluster = grupo\n",
    "  txt\n",
    "}\n",
    "\n",
    "lista <- purrr::map_dfr(dra,top_frase)\n",
    "lista <- lista %>%\n",
    " mutate(txt = fct_reorder(txt, frq))\n",
    "\n",
    "ggplot(lista) +\n",
    " aes(x = txt, weight = frq) +\n",
    " geom_bar(fill = \"#4682B4\") +\n",
    " coord_flip() +\n",
    " theme_gray() +\n",
    " facet_wrap(vars(cluster), scales = \"free\") +\n",
    " labs(title = \"Sentimento\")"
   ]
  },
  {
   "cell_type": "code",
   "execution_count": 22,
   "metadata": {},
   "outputs": [
    {
     "data": {
      "application/vnd.r.htmlwidget": "[object Object]",
      "text/plain": [
       "<wordcloud2 HTML widget>"
      ]
     },
     "metadata": {},
     "output_type": "display_data"
    }
   ],
   "source": [
    "library(wordcloud2)\n",
    "\n",
    "nuvem <- function(k){\n",
    "  corpus = Corpus(VectorSource(enc2native(CSS_txt$comentario[CSS_txt$medico == k])))\n",
    "  #preparando o df para wordcloud2\n",
    "  tdm.word = TermDocumentMatrix(corpus) %>% as.matrix\n",
    "  tdm.df = data.frame(words = rownames(tdm.word),\n",
    "                      freq = apply(tdm.word,1,sum))\n",
    "  a <- wordcloud2(tdm.df, size=.6)\n",
    "  a\n",
    "}\n",
    "\n",
    "nuvem(dra[1])"
   ]
  }
 ],
 "metadata": {
  "language_info": {
   "name": "r"
  }
 },
 "nbformat": 4,
 "nbformat_minor": 2
}
