{
 "cells": [
  {
   "cell_type": "markdown",
   "metadata": {},
   "source": [
    "# Bibliocetas"
   ]
  },
  {
   "cell_type": "code",
   "execution_count": 1,
   "metadata": {},
   "outputs": [],
   "source": [
    "from selenium import webdriver\n",
    "from selenium.webdriver.common.by import By\n",
    "from selenium.webdriver.support.ui import WebDriverWait\n",
    "from selenium.webdriver.support import expected_conditions as EC\n",
    "import time\n",
    "import pandas as pd"
   ]
  },
  {
   "cell_type": "markdown",
   "metadata": {},
   "source": [
    "# Parametros"
   ]
  },
  {
   "cell_type": "code",
   "execution_count": 2,
   "metadata": {},
   "outputs": [
    {
     "name": "stdout",
     "output_type": "stream",
     "text": [
      "Requirement already satisfied: unidecode in /opt/homebrew/Caskroom/miniforge/base/envs/R/lib/python3.12/site-packages (1.3.8)\n",
      "Note: you may need to restart the kernel to use updated packages.\n"
     ]
    }
   ],
   "source": [
    "pip install unidecode"
   ]
  },
  {
   "cell_type": "code",
   "execution_count": 3,
   "metadata": {},
   "outputs": [
    {
     "data": {
      "text/html": [
       "<div>\n",
       "<style scoped>\n",
       "    .dataframe tbody tr th:only-of-type {\n",
       "        vertical-align: middle;\n",
       "    }\n",
       "\n",
       "    .dataframe tbody tr th {\n",
       "        vertical-align: top;\n",
       "    }\n",
       "\n",
       "    .dataframe thead th {\n",
       "        text-align: right;\n",
       "    }\n",
       "</style>\n",
       "<table border=\"1\" class=\"dataframe\">\n",
       "  <thead>\n",
       "    <tr style=\"text-align: right;\">\n",
       "      <th></th>\n",
       "      <th>DOCTORS</th>\n",
       "      <th>urls</th>\n",
       "    </tr>\n",
       "  </thead>\n",
       "  <tbody>\n",
       "    <tr>\n",
       "      <th>0</th>\n",
       "      <td>luiz guilherme de siqueira flora</td>\n",
       "      <td>https://www.doctoralia.com.br/luiz-guilherme-d...</td>\n",
       "    </tr>\n",
       "    <tr>\n",
       "      <th>1</th>\n",
       "      <td>gusttavo fernandes</td>\n",
       "      <td>https://www.doctoralia.com.br/gusttavo-fernand...</td>\n",
       "    </tr>\n",
       "    <tr>\n",
       "      <th>2</th>\n",
       "      <td>maressa carvalho</td>\n",
       "      <td>https://www.doctoralia.com.br/maressa-carvalho...</td>\n",
       "    </tr>\n",
       "    <tr>\n",
       "      <th>3</th>\n",
       "      <td>natalia belsuzarri</td>\n",
       "      <td>https://www.doctoralia.com.br/natalia-belsuzar...</td>\n",
       "    </tr>\n",
       "    <tr>\n",
       "      <th>4</th>\n",
       "      <td>rita de cassia alves bomfim</td>\n",
       "      <td>https://www.doctoralia.com.br/rita-de-cassia-a...</td>\n",
       "    </tr>\n",
       "    <tr>\n",
       "      <th>5</th>\n",
       "      <td>joao jorge lorenzini</td>\n",
       "      <td>https://www.doctoralia.com.br/joao-jorge-loren...</td>\n",
       "    </tr>\n",
       "  </tbody>\n",
       "</table>\n",
       "</div>"
      ],
      "text/plain": [
       "                            DOCTORS  \\\n",
       "0  luiz guilherme de siqueira flora   \n",
       "1                gusttavo fernandes   \n",
       "2                  maressa carvalho   \n",
       "3                natalia belsuzarri   \n",
       "4       rita de cassia alves bomfim   \n",
       "5              joao jorge lorenzini   \n",
       "\n",
       "                                                urls  \n",
       "0  https://www.doctoralia.com.br/luiz-guilherme-d...  \n",
       "1  https://www.doctoralia.com.br/gusttavo-fernand...  \n",
       "2  https://www.doctoralia.com.br/maressa-carvalho...  \n",
       "3  https://www.doctoralia.com.br/natalia-belsuzar...  \n",
       "4  https://www.doctoralia.com.br/rita-de-cassia-a...  \n",
       "5  https://www.doctoralia.com.br/joao-jorge-loren...  "
      ]
     },
     "execution_count": 3,
     "metadata": {},
     "output_type": "execute_result"
    }
   ],
   "source": [
    "import pandas as pd\n",
    "from unidecode import unidecode\n",
    "\n",
    "# Lista de médicos\n",
    "medicos = [\n",
    "    'Luiz Guilherme de Siqueira Flora',\n",
    "    'Gusttavo Fernandes',\n",
    "    'Maressa Carvalho',\n",
    "    'Natalia Belsuzarri',\n",
    "    'Rita De Cassia Alves Bomfim',\n",
    "    'Joao Jorge Lorenzini'\n",
    "]\n",
    "\n",
    "# Aplicar unidecode para remover a acentuação e converter para minúsculas\n",
    "medicos = [unidecode(i).lower() for i in medicos]\n",
    "\n",
    "# Definir especialidade e cidade\n",
    "BASE_DOMAIN = \"https://www.doctoralia.com.br\"\n",
    "SPECIALIZATION = \"pisciquiatra\"\n",
    "CITY = \"sao-jose-dos-campos\"\n",
    "\n",
    "# Gerar lista de URLs\n",
    "urls = [\"{}/{}/{}/{}\".format(BASE_DOMAIN, '-'.join(nome.lower().split()), SPECIALIZATION, CITY) for nome in medicos]\n",
    "\n",
    "# Criar DataFrame\n",
    "list_pg = pd.DataFrame({\n",
    "    'DOCTORS': medicos,\n",
    "    'urls': urls\n",
    "})\n",
    "\n",
    "list_pg.head(10)"
   ]
  },
  {
   "cell_type": "code",
   "execution_count": 4,
   "metadata": {},
   "outputs": [],
   "source": [
    "# Inicializa o driver do Chrome (certifique-se de ter o ChromeDriver instalado e em seu PATH)\n",
    "driver = webdriver.Chrome()\n",
    "\n",
    "# Função para clicar em \"Ver mais\" um determinado número de vezes\n",
    "def clicar_ver_mais(vezes):\n",
    "    for _ in range(vezes):\n",
    "        try:\n",
    "            ver_mais_button = WebDriverWait(driver, 10).until(EC.visibility_of_element_located((By.XPATH, \"//a[contains(text(),'Veja mais')]\")))\n",
    "            driver.execute_script(\"arguments[0].scrollIntoView();\", ver_mais_button)\n",
    "            ver_mais_button.click()\n",
    "            time.sleep(2)  # Aguarda um curto intervalo para carregar mais comentários\n",
    "        except:\n",
    "            break\n",
    "\n",
    "# Função para coletar os comentários de uma URL específica\n",
    "def coletar_comentarios(url):\n",
    "    driver.get(url)\n",
    "    clicar_ver_mais(100) # Clicar em \"Ver mais\" 10 vezes\n",
    "\n",
    "    comentarios = driver.find_elements(By.CLASS_NAME, 'text-break')\n",
    "    lista_comentarios = []\n",
    "\n",
    "    for comentario in comentarios:\n",
    "        lista_comentarios.append(comentario.text.strip())\n",
    "\n",
    "    return lista_comentarios\n",
    "\n",
    "# DataFrame df1 com as colunas \"medico\" e \"url\"\n",
    "# Vamos supor que este DataFrame já esteja preenchido com os dados necessários\n",
    "df1 = list_pg\n",
    "\n",
    "# Listas para armazenar os resultados\n",
    "lista_medicos = []\n",
    "lista_comentarios_total = []\n",
    "\n",
    "for index, row in list_pg.iterrows():\n",
    "    medico = row['DOCTORS']\n",
    "    url = row['urls']\n",
    "\n",
    "    comentarios = coletar_comentarios(url)\n",
    "\n",
    "    lista_medicos.extend([medico] * len(comentarios))\n",
    "    lista_comentarios_total.extend(comentarios)\n",
    "\n",
    "# Fecha o navegador após coletar todos os comentários\n",
    "driver.quit()\n",
    "\n",
    "# Criar DataFrame com os resultados\n",
    "df = pd.DataFrame({\n",
    "    'medico': lista_medicos,\n",
    "    'comentarios': lista_comentarios_total\n",
    "})"
   ]
  },
  {
   "cell_type": "code",
   "execution_count": 5,
   "metadata": {},
   "outputs": [
    {
     "data": {
      "text/html": [
       "<div>\n",
       "<style scoped>\n",
       "    .dataframe tbody tr th:only-of-type {\n",
       "        vertical-align: middle;\n",
       "    }\n",
       "\n",
       "    .dataframe tbody tr th {\n",
       "        vertical-align: top;\n",
       "    }\n",
       "\n",
       "    .dataframe thead th {\n",
       "        text-align: right;\n",
       "    }\n",
       "</style>\n",
       "<table border=\"1\" class=\"dataframe\">\n",
       "  <thead>\n",
       "    <tr style=\"text-align: right;\">\n",
       "      <th></th>\n",
       "      <th>medico</th>\n",
       "      <th>comentarios</th>\n",
       "    </tr>\n",
       "  </thead>\n",
       "  <tbody>\n",
       "    <tr>\n",
       "      <th>0</th>\n",
       "      <td>luiz guilherme de siqueira flora</td>\n",
       "      <td>C\\nCarina Marin Callegari\\nPerfil verificado\\n...</td>\n",
       "    </tr>\n",
       "    <tr>\n",
       "      <th>1</th>\n",
       "      <td>luiz guilherme de siqueira flora</td>\n",
       "      <td>A consulta com o Dr.º Luiz Guilherme se traduz...</td>\n",
       "    </tr>\n",
       "    <tr>\n",
       "      <th>2</th>\n",
       "      <td>luiz guilherme de siqueira flora</td>\n",
       "      <td>J\\nJoão Roberto Fava Junior\\nPerfil verificado...</td>\n",
       "    </tr>\n",
       "    <tr>\n",
       "      <th>3</th>\n",
       "      <td>luiz guilherme de siqueira flora</td>\n",
       "      <td>O melhor psiquiatra que já me atendeu em toda ...</td>\n",
       "    </tr>\n",
       "    <tr>\n",
       "      <th>4</th>\n",
       "      <td>luiz guilherme de siqueira flora</td>\n",
       "      <td>T\\nThaisnara Magalhães Silva Moura\\nPerfil ver...</td>\n",
       "    </tr>\n",
       "  </tbody>\n",
       "</table>\n",
       "</div>"
      ],
      "text/plain": [
       "                             medico  \\\n",
       "0  luiz guilherme de siqueira flora   \n",
       "1  luiz guilherme de siqueira flora   \n",
       "2  luiz guilherme de siqueira flora   \n",
       "3  luiz guilherme de siqueira flora   \n",
       "4  luiz guilherme de siqueira flora   \n",
       "\n",
       "                                         comentarios  \n",
       "0  C\\nCarina Marin Callegari\\nPerfil verificado\\n...  \n",
       "1  A consulta com o Dr.º Luiz Guilherme se traduz...  \n",
       "2  J\\nJoão Roberto Fava Junior\\nPerfil verificado...  \n",
       "3  O melhor psiquiatra que já me atendeu em toda ...  \n",
       "4  T\\nThaisnara Magalhães Silva Moura\\nPerfil ver...  "
      ]
     },
     "execution_count": 5,
     "metadata": {},
     "output_type": "execute_result"
    }
   ],
   "source": [
    "df.head()\n"
   ]
  },
  {
   "cell_type": "code",
   "execution_count": 6,
   "metadata": {},
   "outputs": [
    {
     "name": "stderr",
     "output_type": "stream",
     "text": [
      "/opt/homebrew/Caskroom/miniforge/base/envs/R/lib/python3.12/site-packages/dateutil/parser/_parser.py:1207: UnknownTimezoneWarning: tzname E identified but not understood.  Pass `tzinfos` argument in order to correctly return a timezone-aware datetime.  In a future version, this will raise an exception.\n",
      "  warnings.warn(\"tzname {tzname} identified but not understood.  \"\n"
     ]
    }
   ],
   "source": [
    "import pandas as pd\n",
    "from dateutil import parser\n",
    "\n",
    "# Mapeamento dos nomes dos meses em português para inglês\n",
    "meses_pt_para_en = {\n",
    "    'janeiro': 'January',\n",
    "    'fevereiro': 'February',\n",
    "    'março': 'March',\n",
    "    'abril': 'April',\n",
    "    'maio': 'May',\n",
    "    'junho': 'June',\n",
    "    'julho': 'July',\n",
    "    'agosto': 'August',\n",
    "    'setembro': 'September',\n",
    "    'outubro': 'October',\n",
    "    'novembro': 'November',\n",
    "    'dezembro': 'December'\n",
    "}\n",
    "\n",
    "# Função para extrair datas da string\n",
    "def extrair_data(texto):\n",
    "    for mes_pt, mes_en in meses_pt_para_en.items():\n",
    "        texto = texto.replace(mes_pt, mes_en)\n",
    "    try:\n",
    "        return parser.parse(texto, fuzzy=True)\n",
    "    except ValueError:\n",
    "        return pd.NA\n",
    "\n",
    "# Aplicar a função à coluna 'Texto' para extrair as datas\n",
    "df['Data'] = df['comentarios'].apply(extrair_data)\n",
    "df['del'] = df['Data'].isna().astype(int)\n",
    "#df['Data'] = df['Data'].fillna(method='ffill')\n",
    "#df = df.query(\"del = 1\")"
   ]
  },
  {
   "cell_type": "code",
   "execution_count": 7,
   "metadata": {},
   "outputs": [
    {
     "data": {
      "text/html": [
       "<div>\n",
       "<style scoped>\n",
       "    .dataframe tbody tr th:only-of-type {\n",
       "        vertical-align: middle;\n",
       "    }\n",
       "\n",
       "    .dataframe tbody tr th {\n",
       "        vertical-align: top;\n",
       "    }\n",
       "\n",
       "    .dataframe thead th {\n",
       "        text-align: right;\n",
       "    }\n",
       "</style>\n",
       "<table border=\"1\" class=\"dataframe\">\n",
       "  <thead>\n",
       "    <tr style=\"text-align: right;\">\n",
       "      <th></th>\n",
       "      <th>medico</th>\n",
       "      <th>comentarios</th>\n",
       "      <th>Data</th>\n",
       "      <th>del</th>\n",
       "    </tr>\n",
       "  </thead>\n",
       "  <tbody>\n",
       "    <tr>\n",
       "      <th>0</th>\n",
       "      <td>luiz guilherme de siqueira flora</td>\n",
       "      <td>C\\nCarina Marin Callegari\\nPerfil verificado\\n...</td>\n",
       "      <td>2024-03-22 00:00:00</td>\n",
       "      <td>0</td>\n",
       "    </tr>\n",
       "    <tr>\n",
       "      <th>1</th>\n",
       "      <td>luiz guilherme de siqueira flora</td>\n",
       "      <td>A consulta com o Dr.º Luiz Guilherme se traduz...</td>\n",
       "      <td>&lt;NA&gt;</td>\n",
       "      <td>1</td>\n",
       "    </tr>\n",
       "    <tr>\n",
       "      <th>2</th>\n",
       "      <td>luiz guilherme de siqueira flora</td>\n",
       "      <td>J\\nJoão Roberto Fava Junior\\nPerfil verificado...</td>\n",
       "      <td>2024-03-20 00:00:00</td>\n",
       "      <td>0</td>\n",
       "    </tr>\n",
       "    <tr>\n",
       "      <th>3</th>\n",
       "      <td>luiz guilherme de siqueira flora</td>\n",
       "      <td>O melhor psiquiatra que já me atendeu em toda ...</td>\n",
       "      <td>&lt;NA&gt;</td>\n",
       "      <td>1</td>\n",
       "    </tr>\n",
       "    <tr>\n",
       "      <th>4</th>\n",
       "      <td>luiz guilherme de siqueira flora</td>\n",
       "      <td>T\\nThaisnara Magalhães Silva Moura\\nPerfil ver...</td>\n",
       "      <td>2024-03-13 00:00:00</td>\n",
       "      <td>0</td>\n",
       "    </tr>\n",
       "  </tbody>\n",
       "</table>\n",
       "</div>"
      ],
      "text/plain": [
       "                             medico  \\\n",
       "0  luiz guilherme de siqueira flora   \n",
       "1  luiz guilherme de siqueira flora   \n",
       "2  luiz guilherme de siqueira flora   \n",
       "3  luiz guilherme de siqueira flora   \n",
       "4  luiz guilherme de siqueira flora   \n",
       "\n",
       "                                         comentarios                 Data  del  \n",
       "0  C\\nCarina Marin Callegari\\nPerfil verificado\\n...  2024-03-22 00:00:00    0  \n",
       "1  A consulta com o Dr.º Luiz Guilherme se traduz...                 <NA>    1  \n",
       "2  J\\nJoão Roberto Fava Junior\\nPerfil verificado...  2024-03-20 00:00:00    0  \n",
       "3  O melhor psiquiatra que já me atendeu em toda ...                 <NA>    1  \n",
       "4  T\\nThaisnara Magalhães Silva Moura\\nPerfil ver...  2024-03-13 00:00:00    0  "
      ]
     },
     "execution_count": 7,
     "metadata": {},
     "output_type": "execute_result"
    }
   ],
   "source": [
    "df.head()"
   ]
  },
  {
   "cell_type": "code",
   "execution_count": 9,
   "metadata": {},
   "outputs": [
    {
     "data": {
      "text/plain": [
       "medico\n",
       "natalia belsuzarri                  232\n",
       "luiz guilherme de siqueira flora    112\n",
       "rita de cassia alves bomfim         100\n",
       "joao jorge lorenzini                100\n",
       "gusttavo fernandes                   20\n",
       "maressa carvalho                     20\n",
       "Name: count, dtype: int64"
      ]
     },
     "execution_count": 9,
     "metadata": {},
     "output_type": "execute_result"
    }
   ],
   "source": [
    "df['medico'].value_counts()"
   ]
  },
  {
   "cell_type": "code",
   "execution_count": 11,
   "metadata": {},
   "outputs": [],
   "source": [
    "df.to_csv(\"dados/comentarios_por_medico.csv\", index=False)"
   ]
  },
  {
   "cell_type": "code",
   "execution_count": 13,
   "metadata": {},
   "outputs": [],
   "source": [
    "filtered_df = df[df['medico'] == 'rita de cassia alves bomfim']\n",
    "\n"
   ]
  },
  {
   "cell_type": "code",
   "execution_count": 11,
   "metadata": {},
   "outputs": [
    {
     "name": "stdout",
     "output_type": "stream",
     "text": [
      "Collecting wordcloud\n",
      "  Downloading wordcloud-1.9.3-cp312-cp312-macosx_11_0_arm64.whl.metadata (3.4 kB)\n",
      "Requirement already satisfied: numpy>=1.6.1 in /opt/homebrew/Caskroom/miniforge/base/envs/R/lib/python3.12/site-packages (from wordcloud) (1.26.4)\n",
      "Requirement already satisfied: pillow in /opt/homebrew/Caskroom/miniforge/base/envs/R/lib/python3.12/site-packages (from wordcloud) (10.2.0)\n",
      "Requirement already satisfied: matplotlib in /opt/homebrew/Caskroom/miniforge/base/envs/R/lib/python3.12/site-packages (from wordcloud) (3.8.3)\n",
      "Requirement already satisfied: contourpy>=1.0.1 in /opt/homebrew/Caskroom/miniforge/base/envs/R/lib/python3.12/site-packages (from matplotlib->wordcloud) (1.2.0)\n",
      "Requirement already satisfied: cycler>=0.10 in /opt/homebrew/Caskroom/miniforge/base/envs/R/lib/python3.12/site-packages (from matplotlib->wordcloud) (0.12.1)\n",
      "Requirement already satisfied: fonttools>=4.22.0 in /opt/homebrew/Caskroom/miniforge/base/envs/R/lib/python3.12/site-packages (from matplotlib->wordcloud) (4.49.0)\n",
      "Requirement already satisfied: kiwisolver>=1.3.1 in /opt/homebrew/Caskroom/miniforge/base/envs/R/lib/python3.12/site-packages (from matplotlib->wordcloud) (1.4.5)\n",
      "Requirement already satisfied: packaging>=20.0 in /opt/homebrew/Caskroom/miniforge/base/envs/R/lib/python3.12/site-packages (from matplotlib->wordcloud) (23.2)\n",
      "Requirement already satisfied: pyparsing>=2.3.1 in /opt/homebrew/Caskroom/miniforge/base/envs/R/lib/python3.12/site-packages (from matplotlib->wordcloud) (3.1.1)\n",
      "Requirement already satisfied: python-dateutil>=2.7 in /opt/homebrew/Caskroom/miniforge/base/envs/R/lib/python3.12/site-packages (from matplotlib->wordcloud) (2.8.2)\n",
      "Requirement already satisfied: six>=1.5 in /opt/homebrew/Caskroom/miniforge/base/envs/R/lib/python3.12/site-packages (from python-dateutil>=2.7->matplotlib->wordcloud) (1.16.0)\n",
      "Downloading wordcloud-1.9.3-cp312-cp312-macosx_11_0_arm64.whl (169 kB)\n",
      "\u001b[2K   \u001b[90m━━━━━━━━━━━━━━━━━━━━━━━━━━━━━━━━━━━━━━━━\u001b[0m \u001b[32m169.4/169.4 kB\u001b[0m \u001b[31m1.8 MB/s\u001b[0m eta \u001b[36m0:00:00\u001b[0ma \u001b[36m0:00:01\u001b[0mm\n",
      "\u001b[?25hInstalling collected packages: wordcloud\n",
      "Successfully installed wordcloud-1.9.3\n",
      "Note: you may need to restart the kernel to use updated packages.\n"
     ]
    }
   ],
   "source": [
    "pip install wordcloud"
   ]
  },
  {
   "cell_type": "code",
   "execution_count": 17,
   "metadata": {},
   "outputs": [
    {
     "ename": "ModuleNotFoundError",
     "evalue": "No module named 'nltk'",
     "output_type": "error",
     "traceback": [
      "\u001b[0;31m---------------------------------------------------------------------------\u001b[0m",
      "\u001b[0;31mModuleNotFoundError\u001b[0m                       Traceback (most recent call last)",
      "Cell \u001b[0;32mIn[17], line 1\u001b[0m\n\u001b[0;32m----> 1\u001b[0m \u001b[38;5;28;01mimport\u001b[39;00m \u001b[38;5;21;01mnltk\u001b[39;00m\n\u001b[1;32m      2\u001b[0m \u001b[38;5;28;01mfrom\u001b[39;00m \u001b[38;5;21;01mnltk\u001b[39;00m\u001b[38;5;21;01m.\u001b[39;00m\u001b[38;5;21;01mcorpus\u001b[39;00m \u001b[38;5;28;01mimport\u001b[39;00m stopwords\n\u001b[1;32m      4\u001b[0m \u001b[38;5;66;03m# Download the stopwords corpus if not already downloaded\u001b[39;00m\n",
      "\u001b[0;31mModuleNotFoundError\u001b[0m: No module named 'nltk'"
     ]
    }
   ],
   "source": [
    "import nltk\n",
    "from nltk.corpus import stopwords\n",
    "\n",
    "# Download the stopwords corpus if not already downloaded\n",
    "nltk.download('stopwords')\n",
    "\n",
    "# Get the list of stopwords for Portuguese (Brazil)\n",
    "stop_words = set(stopwords.words('portuguese'))\n",
    "\n",
    "# Example text\n",
    "text = \"Este é um exemplo de texto em português.\"\n",
    "\n",
    "# Tokenize the text\n",
    "tokens = text.split()\n",
    "\n",
    "# Remove the stopwords\n",
    "filtered_tokens = [token for token in tokens if token.lower() not in stop_words]\n",
    "\n",
    "# Join the filtered tokens back into a single string\n",
    "filtered_text = ' '.join(filtered_tokens)\n",
    "\n",
    "print(filtered_text)\n"
   ]
  },
  {
   "cell_type": "code",
   "execution_count": null,
   "metadata": {},
   "outputs": [],
   "source": []
  }
 ],
 "metadata": {
  "kernelspec": {
   "display_name": "Python 3",
   "language": "python",
   "name": "python3"
  },
  "language_info": {
   "codemirror_mode": {
    "name": "ipython",
    "version": 3
   },
   "file_extension": ".py",
   "mimetype": "text/x-python",
   "name": "python",
   "nbconvert_exporter": "python",
   "pygments_lexer": "ipython3",
   "version": "3.1.undefined"
  }
 },
 "nbformat": 4,
 "nbformat_minor": 2
}
